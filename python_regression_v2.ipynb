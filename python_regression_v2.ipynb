{
 "cells": [
  {
   "cell_type": "markdown",
   "metadata": {},
   "source": [
    "# Python Rocks!\n",
    "\n",
    "- Oliver Will\n",
    "- 2021-02-18\n",
    "- v2\n",
    "\n",
    "I can check the version of Python from within Jupyter Lab. I have 3.9 installed elsewhere on my compute. "
   ]
  },
  {
   "cell_type": "code",
   "execution_count": 1,
   "metadata": {},
   "outputs": [
    {
     "name": "stdout",
     "output_type": "stream",
     "text": [
      "3.8.5\n"
     ]
    }
   ],
   "source": [
    "from platform import python_version\n",
    "print(python_version())"
   ]
  },
  {
   "cell_type": "markdown",
   "metadata": {},
   "source": [
    "I always check if the namespace is empty. This is a habit from R and I doubt I need to do it for Python."
   ]
  },
  {
   "cell_type": "code",
   "execution_count": 2,
   "metadata": {},
   "outputs": [],
   "source": [
    "# Not going to run\n",
    "# dir()"
   ]
  },
  {
   "cell_type": "markdown",
   "metadata": {},
   "source": [
    "Not quite sure what's in this namespace, but it doesn't look too bad.\n",
    "## Three programming concepts\n",
    "1. Variable assignment"
   ]
  },
  {
   "cell_type": "code",
   "execution_count": 3,
   "metadata": {},
   "outputs": [
    {
     "name": "stdout",
     "output_type": "stream",
     "text": [
      "2\n",
      "Hello world\n"
     ]
    }
   ],
   "source": [
    "# Example of variable assignment\n",
    "x = 2\n",
    "print(x)\n",
    "\n",
    "# Note: Can assign different variable types in Python until you can't.\n",
    "x = \"Hello world\"\n",
    "print(x)"
   ]
  },
  {
   "cell_type": "markdown",
   "metadata": {},
   "source": [
    "2. Functions"
   ]
  },
  {
   "cell_type": "code",
   "execution_count": 4,
   "metadata": {},
   "outputs": [
    {
     "name": "stdout",
     "output_type": "stream",
     "text": [
      "5\n"
     ]
    }
   ],
   "source": [
    "# Example of function assignment\n",
    "def f(x, y):\n",
    "    ans = x+y\n",
    "    return ans\n",
    "print(f(2, 3))"
   ]
  },
  {
   "cell_type": "markdown",
   "metadata": {},
   "source": [
    "Python has a method to delete variables and functions"
   ]
  },
  {
   "cell_type": "code",
   "execution_count": 5,
   "metadata": {},
   "outputs": [],
   "source": [
    "del x\n",
    "del f\n",
    "\n",
    "# Not going to run dir\n",
    "# dir()"
   ]
  },
  {
   "cell_type": "markdown",
   "metadata": {},
   "source": [
    "3. Adding a package"
   ]
  },
  {
   "cell_type": "code",
   "execution_count": 22,
   "metadata": {},
   "outputs": [],
   "source": [
    "import numpy as np\n",
    "from IPython.display import HTML"
   ]
  },
  {
   "cell_type": "markdown",
   "metadata": {},
   "source": [
    "# Simulate a dataset\n",
    "\n",
    "It's easy to get into Markdown in Jupyter and it can handle $LaTex$.\n",
    "\n",
    "We'll create our first data set of 100 data points. \n",
    "\n",
    "Simulate a regression of the form \\begin{equation}y=\\beta_0+\\beta_1 x+\\epsilon\\end{equation}\n",
    "\n",
    "where $\\epsilon \\sim \\text{Normal}(0, \\sigma=4)$.\n",
    "\n",
    "Make it easy and let $\\beta_0 = 5$ and $\\beta_1 = 2$.\n",
    "\n",
    "$x$ will be simulated from a $\\text{Normal}(\\mu = 0, \\sigma = 4)$ and $\\epsilon \\sim \\text{Normal}(\\mu = 0, \\sigma = 4)$."
   ]
  },
  {
   "cell_type": "code",
   "execution_count": 6,
   "metadata": {},
   "outputs": [
    {
     "name": "stdout",
     "output_type": "stream",
     "text": [
      "[ 0.20224683  1.99980533 -3.98363572  2.77439403 -1.67320608]\n"
     ]
    }
   ],
   "source": [
    "# Use a legacy set seed\n",
    "np.random.seed(4)\n",
    "# See https://numpy.org/doc/stable/reference/random/generated/numpy.random.seed.html \n",
    "# for the modern way to set a seed.\n",
    "x = np.random.normal(0, 4, 100)\n",
    "print(x[:5])"
   ]
  },
  {
   "cell_type": "code",
   "execution_count": 7,
   "metadata": {},
   "outputs": [
    {
     "name": "stdout",
     "output_type": "stream",
     "text": [
      "[ 8.3574821  11.60262359 -0.50830893 10.04251369  7.96908483]\n"
     ]
    }
   ],
   "source": [
    "# Add the response variable\n",
    "y = 5+2*x+np.random.normal(0, 4, 100)\n",
    "print(y[:5])"
   ]
  },
  {
   "cell_type": "code",
   "execution_count": 9,
   "metadata": {},
   "outputs": [
    {
     "name": "stdout",
     "output_type": "stream",
     "text": [
      "           x          y\n",
      "0   0.202247   8.357482\n",
      "1   1.999805  11.602624\n",
      "2  -3.983636  -0.508309\n",
      "3   2.774394  10.042514\n",
      "4  -1.673206   7.969085\n",
      "..       ...        ...\n",
      "95  2.092991   9.383887\n",
      "96 -1.983274  -0.011796\n",
      "97 -0.685858   7.135253\n",
      "98 -3.777474  -4.486464\n",
      "99  1.123459   3.305244\n",
      "\n",
      "[100 rows x 2 columns]\n",
      "0     0.202247\n",
      "1     1.999805\n",
      "2    -3.983636\n",
      "3     2.774394\n",
      "4    -1.673206\n",
      "        ...   \n",
      "95    2.092991\n",
      "96   -1.983274\n",
      "97   -0.685858\n",
      "98   -3.777474\n",
      "99    1.123459\n",
      "Name: x, Length: 100, dtype: float64\n"
     ]
    }
   ],
   "source": [
    "# Make a dataframe\n",
    "import pandas as pd\n",
    "df = {'x':x\n",
    "    ,'y':y}\n",
    "df = pd.DataFrame(df)\n",
    "print(df)\n",
    "print(df.loc[:, 'x'])"
   ]
  },
  {
   "cell_type": "markdown",
   "metadata": {},
   "source": [
    "## Plot the data"
   ]
  },
  {
   "cell_type": "code",
   "execution_count": 10,
   "metadata": {},
   "outputs": [
    {
     "data": {
      "text/plain": [
       "<AxesSubplot:xlabel='x', ylabel='y'>"
      ]
     },
     "execution_count": 10,
     "metadata": {},
     "output_type": "execute_result"
    },
    {
     "data": {
      "image/png": "[encoded data removed]",
      "text/plain": [
       "<Figure size 432x288 with 1 Axes>"
      ]
     },
     "metadata": {
      "needs_background": "light"
     },
     "output_type": "display_data"
    }
   ],
   "source": [
    "df.plot.scatter('x', 'y')"
   ]
  },
  {
   "cell_type": "markdown",
   "metadata": {},
   "source": [
    "Maybe we need to enter the Matlibplot universe!"
   ]
  },
  {
   "cell_type": "code",
   "execution_count": 12,
   "metadata": {},
   "outputs": [
    {
     "data": {
      "image/png": "[encoded data removed]",
      "text/plain": [
       "<Figure size 432x288 with 1 Axes>"
      ]
     },
     "metadata": {
      "needs_background": "light"
     },
     "output_type": "display_data"
    }
   ],
   "source": [
    "import matplotlib.pyplot as plt\n",
    "fig=plt.figure()\n",
    "ax=fig.add_axes([0,0,1,1])\n",
    "ax.scatter(df['x'], df['y'])\n",
    "plt.show()"
   ]
  },
  {
   "cell_type": "markdown",
   "metadata": {},
   "source": [
    "Maybe not.\n",
    "\n",
    "## Linear Regression\n",
    "We'll fit a linear regression with OLS."
   ]
  },
  {
   "cell_type": "code",
   "execution_count": 14,
   "metadata": {},
   "outputs": [
    {
     "name": "stdout",
     "output_type": "stream",
     "text": [
      "Dataframe\n",
      "1    1.999805\n",
      "2   -3.983636\n",
      "3    2.774394\n",
      "4   -1.673206\n",
      "5   -6.338309\n",
      "6   -2.590827\n",
      "7    2.394301\n",
      "8    1.329000\n",
      "9   -4.589907\n",
      "Name: x, dtype: float64\n",
      "\n",
      "NumPy\n",
      "[[ 1.99980533]\n",
      " [-3.98363572]\n",
      " [ 2.77439403]\n",
      " [-1.67320608]\n",
      " [-6.33830894]\n",
      " [-2.59082707]\n",
      " [ 2.3943007 ]\n",
      " [ 1.32900013]\n",
      " [-4.58990653]]\n",
      "\n",
      "Regression fit\n",
      "{'copy_X': True, 'fit_intercept': True, 'n_jobs': None, 'normalize': False}\n",
      "[[2.13124292]]\n",
      "[5.06871477]\n"
     ]
    },
    {
     "data": {
      "text/plain": [
       "['__abstractmethods__',\n",
       " '__class__',\n",
       " '__delattr__',\n",
       " '__dict__',\n",
       " '__dir__',\n",
       " '__doc__',\n",
       " '__eq__',\n",
       " '__format__',\n",
       " '__ge__',\n",
       " '__getattribute__',\n",
       " '__getstate__',\n",
       " '__gt__',\n",
       " '__hash__',\n",
       " '__init__',\n",
       " '__init_subclass__',\n",
       " '__le__',\n",
       " '__lt__',\n",
       " '__module__',\n",
       " '__ne__',\n",
       " '__new__',\n",
       " '__reduce__',\n",
       " '__reduce_ex__',\n",
       " '__repr__',\n",
       " '__setattr__',\n",
       " '__setstate__',\n",
       " '__sizeof__',\n",
       " '__str__',\n",
       " '__subclasshook__',\n",
       " '__weakref__',\n",
       " '_abc_impl',\n",
       " '_check_n_features',\n",
       " '_decision_function',\n",
       " '_estimator_type',\n",
       " '_get_param_names',\n",
       " '_get_tags',\n",
       " '_more_tags',\n",
       " '_preprocess_data',\n",
       " '_repr_html_',\n",
       " '_repr_html_inner',\n",
       " '_repr_mimebundle_',\n",
       " '_residues',\n",
       " '_set_intercept',\n",
       " '_validate_data',\n",
       " 'coef_',\n",
       " 'copy_X',\n",
       " 'fit',\n",
       " 'fit_intercept',\n",
       " 'get_params',\n",
       " 'intercept_',\n",
       " 'n_features_in_',\n",
       " 'n_jobs',\n",
       " 'normalize',\n",
       " 'predict',\n",
       " 'rank_',\n",
       " 'score',\n",
       " 'set_params',\n",
       " 'singular_']"
      ]
     },
     "execution_count": 14,
     "metadata": {},
     "output_type": "execute_result"
    }
   ],
   "source": [
    "from sklearn import datasets, linear_model\n",
    "from sklearn.metrics import mean_squared_error, r2_score\n",
    "\n",
    "# Not happy to pull these values out into NumPy vectors\n",
    "x = df.loc[:,'x'].values.reshape(-1, 1)\n",
    "print(\"Dataframe\")\n",
    "print(df[\"x\"][1:10])\n",
    "print(\"\\nNumPy\")\n",
    "print(x[1:10])\n",
    "y = np.array(df['y']).reshape(-1, 1)\n",
    "\n",
    "# Fit the model\n",
    "regr = linear_model.LinearRegression()\n",
    "regr.fit(x, y)\n",
    "\n",
    "print(\"\\nRegression fit\")\n",
    "print(regr.get_params())\n",
    "print(regr.coef_)\n",
    "print(regr.intercept_)\n",
    "\n",
    "# Oh no\n",
    "dir(regr)"
   ]
  },
  {
   "cell_type": "markdown",
   "metadata": {},
   "source": [
    "# Plot the line\n",
    "It appears LinearRegression has produced no statistics. But plotting the best fit line is easy."
   ]
  },
  {
   "cell_type": "code",
   "execution_count": 16,
   "metadata": {},
   "outputs": [
    {
     "data": {
      "image/png": "[encoded data removed]",
      "text/plain": [
       "<Figure size 432x288 with 1 Axes>"
      ]
     },
     "metadata": {
      "needs_background": "light"
     },
     "output_type": "display_data"
    }
   ],
   "source": [
    "fig=plt.figure()\n",
    "ax=fig.add_axes([0,0,1,1])\n",
    "ax.scatter(df['x'], df['y'])\n",
    "ax.plot(x, regr.predict(x), color=\"red\")\n",
    "plt.show()"
   ]
  },
  {
   "cell_type": "markdown",
   "metadata": {},
   "source": [
    "Let's get some statistics."
   ]
  },
  {
   "cell_type": "code",
   "execution_count": 17,
   "metadata": {},
   "outputs": [
    {
     "name": "stdout",
     "output_type": "stream",
     "text": [
      "Check the constant\n",
      "[[ 1.          1.99980533]\n",
      " [ 1.         -3.98363572]\n",
      " [ 1.          2.77439403]\n",
      " [ 1.         -1.67320608]\n",
      " [ 1.         -6.33830894]\n",
      " [ 1.         -2.59082707]\n",
      " [ 1.          2.3943007 ]\n",
      " [ 1.          1.32900013]\n",
      " [ 1.         -4.58990653]]\n",
      "\n",
      "                            OLS Regression Results                            \n",
      "==============================================================================\n",
      "Dep. Variable:                      y   R-squared:                       0.834\n",
      "Model:                            OLS   Adj. R-squared:                  0.832\n",
      "Method:                 Least Squares   F-statistic:                     492.0\n",
      "Date:                Wed, 17 Feb 2021   Prob (F-statistic):           5.51e-40\n",
      "Time:                        19:58:13   Log-Likelihood:                -272.77\n",
      "No. Observations:                 100   AIC:                             549.5\n",
      "Df Residuals:                      98   BIC:                             554.7\n",
      "Df Model:                           1                                         \n",
      "Covariance Type:            nonrobust                                         \n",
      "==============================================================================\n",
      "                 coef    std err          t      P>|t|      [0.025      0.975]\n",
      "------------------------------------------------------------------------------\n",
      "const          5.0687      0.374     13.547      0.000       4.326       5.811\n",
      "x1             2.1312      0.096     22.182      0.000       1.941       2.322\n",
      "==============================================================================\n",
      "Omnibus:                        1.723   Durbin-Watson:                   1.831\n",
      "Prob(Omnibus):                  0.422   Jarque-Bera (JB):                1.618\n",
      "Skew:                           0.207   Prob(JB):                        0.445\n",
      "Kurtosis:                       2.534   Cond. No.                         3.90\n",
      "==============================================================================\n",
      "\n",
      "Notes:\n",
      "[1] Standard Errors assume that the covariance matrix of the errors is correctly specified.\n"
     ]
    }
   ],
   "source": [
    "# Use statsmodels.api. Again have to use NumPy vectors\n",
    "import statsmodels.api as sm\n",
    "x = sm.add_constant(x)\n",
    "\n",
    "print(\"Check the constant\")\n",
    "print(x[:][1:10])\n",
    "fm = sm.OLS(y, x).fit()\n",
    "print()\n",
    "print(fm.summary())"
   ]
  },
  {
   "cell_type": "markdown",
   "metadata": {},
   "source": [
    "One more time with a dataframe."
   ]
  },
  {
   "cell_type": "code",
   "execution_count": 18,
   "metadata": {},
   "outputs": [
    {
     "data": {
      "text/html": [
       "<table class=\"simpletable\">\n",
       "<caption>OLS Regression Results</caption>\n",
       "<tr>\n",
       "  <th>Dep. Variable:</th>            <td>y</td>        <th>  R-squared:         </th> <td>   0.834</td>\n",
       "</tr>\n",
       "<tr>\n",
       "  <th>Model:</th>                   <td>OLS</td>       <th>  Adj. R-squared:    </th> <td>   0.832</td>\n",
       "</tr>\n",
       "<tr>\n",
       "  <th>Method:</th>             <td>Least Squares</td>  <th>  F-statistic:       </th> <td>   492.0</td>\n",
       "</tr>\n",
       "<tr>\n",
       "  <th>Date:</th>             <td>Wed, 17 Feb 2021</td> <th>  Prob (F-statistic):</th> <td>5.51e-40</td>\n",
       "</tr>\n",
       "<tr>\n",
       "  <th>Time:</th>                 <td>19:58:31</td>     <th>  Log-Likelihood:    </th> <td> -272.77</td>\n",
       "</tr>\n",
       "<tr>\n",
       "  <th>No. Observations:</th>      <td>   100</td>      <th>  AIC:               </th> <td>   549.5</td>\n",
       "</tr>\n",
       "<tr>\n",
       "  <th>Df Residuals:</th>          <td>    98</td>      <th>  BIC:               </th> <td>   554.7</td>\n",
       "</tr>\n",
       "<tr>\n",
       "  <th>Df Model:</th>              <td>     1</td>      <th>                     </th>     <td> </td>   \n",
       "</tr>\n",
       "<tr>\n",
       "  <th>Covariance Type:</th>      <td>nonrobust</td>    <th>                     </th>     <td> </td>   \n",
       "</tr>\n",
       "</table>\n",
       "<table class=\"simpletable\">\n",
       "<tr>\n",
       "      <td></td>         <th>coef</th>     <th>std err</th>      <th>t</th>      <th>P>|t|</th>  <th>[0.025</th>    <th>0.975]</th>  \n",
       "</tr>\n",
       "<tr>\n",
       "  <th>Intercept</th> <td>    5.0687</td> <td>    0.374</td> <td>   13.547</td> <td> 0.000</td> <td>    4.326</td> <td>    5.811</td>\n",
       "</tr>\n",
       "<tr>\n",
       "  <th>x</th>         <td>    2.1312</td> <td>    0.096</td> <td>   22.182</td> <td> 0.000</td> <td>    1.941</td> <td>    2.322</td>\n",
       "</tr>\n",
       "</table>\n",
       "<table class=\"simpletable\">\n",
       "<tr>\n",
       "  <th>Omnibus:</th>       <td> 1.723</td> <th>  Durbin-Watson:     </th> <td>   1.831</td>\n",
       "</tr>\n",
       "<tr>\n",
       "  <th>Prob(Omnibus):</th> <td> 0.422</td> <th>  Jarque-Bera (JB):  </th> <td>   1.618</td>\n",
       "</tr>\n",
       "<tr>\n",
       "  <th>Skew:</th>          <td> 0.207</td> <th>  Prob(JB):          </th> <td>   0.445</td>\n",
       "</tr>\n",
       "<tr>\n",
       "  <th>Kurtosis:</th>      <td> 2.534</td> <th>  Cond. No.          </th> <td>    3.90</td>\n",
       "</tr>\n",
       "</table><br/><br/>Notes:<br/>[1] Standard Errors assume that the covariance matrix of the errors is correctly specified."
      ],
      "text/plain": [
       "<IPython.core.display.HTML object>"
      ]
     },
     "execution_count": 18,
     "metadata": {},
     "output_type": "execute_result"
    }
   ],
   "source": [
    "from statsmodels.formula.api import ols\n",
    "fm = ols(\"y ~ x\", data=df).fit()\n",
    "fm_summary = fm.summary()\n",
    "\n",
    "# Spruce it up\n",
    "HTML(fm_summary.as_html())"
   ]
  },
  {
   "cell_type": "markdown",
   "metadata": {},
   "source": [
    "# Regression explortion\n",
    "We want to explore the regression line. \n",
    "- Means are on the regression line\n",
    "- The slope is $r \\times \\sigma_y/\\sigma_x$\n",
    "- Solve for intercept"
   ]
  },
  {
   "cell_type": "code",
   "execution_count": 19,
   "metadata": {},
   "outputs": [
    {
     "name": "stdout",
     "output_type": "stream",
     "text": [
      "Are the means on the line?\n",
      "False\n"
     ]
    }
   ],
   "source": [
    "# Summary statistics\n",
    "m_x = df[\"x\"].mean()\n",
    "m_y = df[\"y\"].mean()\n",
    "\n",
    "# Python is 0 indexed\n",
    "b0 = fm.params[0]\n",
    "b1 = fm.params[1]\n",
    "print(\"Are the means on the line?\")\n",
    "print(m_y == b0+b1*m_x)"
   ]
  },
  {
   "cell_type": "code",
   "execution_count": 20,
   "metadata": {},
   "outputs": [
    {
     "name": "stdout",
     "output_type": "stream",
     "text": [
      "5.369421026342608\n",
      "5.369421026342607\n"
     ]
    }
   ],
   "source": [
    "print(m_y) \n",
    "print(b0+b1*m_x)"
   ]
  },
  {
   "cell_type": "code",
   "execution_count": 21,
   "metadata": {},
   "outputs": [
    {
     "name": "stdout",
     "output_type": "stream",
     "text": [
      "2.1312429238371906\n",
      "2.1312429238371893\n",
      "\n",
      "What about the intercept?\n",
      "5.068714772521574\n",
      "5.068714772521575\n"
     ]
    }
   ],
   "source": [
    "#println(\"\\nIs the formula for the slope correct?\")\n",
    "print(b1)\n",
    "r = df.corr().iloc[0,1]\n",
    "print(r*df[\"y\"].std()/df[\"x\"].std())\n",
    "print(\"\\nWhat about the intercept?\")\n",
    "print(b0)\n",
    "print(m_y-b1*m_x)"
   ]
  },
  {
   "cell_type": "markdown",
   "metadata": {},
   "source": [
    "None of the values are equal!"
   ]
  },
  {
   "cell_type": "markdown",
   "metadata": {},
   "source": [
    "# Check the model assumptions\n",
    "1. Linear and additive\n",
    "2. Errors are independent\n",
    "3. Errors are normal\n",
    "4. Errors are equal variance"
   ]
  },
  {
   "cell_type": "code",
   "execution_count": 27,
   "metadata": {},
   "outputs": [
    {
     "data": {
      "image/png": "[encoded data removed]",
      "text/plain": [
       "<Figure size 720x720 with 4 Axes>"
      ]
     },
     "metadata": {
      "needs_background": "light"
     },
     "output_type": "display_data"
    }
   ],
   "source": [
    "fig = plt.figure(figsize=(10,10))\n",
    "fig = sm.graphics.plot_regress_exog(fm, \"x\", fig=fig)"
   ]
  },
  {
   "cell_type": "markdown",
   "metadata": {},
   "source": [
    "I presented these because they're standard output. \n",
    "- \"Y and fitted vs X\" shows the scatter with the predicted values along with 95% confidence intervals. Looking good for normality.\n",
    "- \"Residuals vs X\" shows that the variance is equal and independent along x.\n",
    "- \"Partial regression plot\" shows predict y accounting for other variables. Should be the same as \"Y and fitted vs X\".\n",
    "- \"CCPR Plot\" (Component and Component Plus Residual) Not quite sure."
   ]
  },
  {
   "cell_type": "markdown",
   "metadata": {},
   "source": [
    "# Final question: Did the 3 programming languages produce simulate data from the same distribution?\n",
    "\n",
    "I find the scatter plots weird. Are these really the same distributions?"
   ]
  },
  {
   "cell_type": "code",
   "execution_count": 31,
   "metadata": {},
   "outputs": [],
   "source": [
    "df.to_csv(\"python_simulation.csv\")"
   ]
  },
  {
   "cell_type": "code",
   "execution_count": 1,
   "metadata": {},
   "outputs": [
    {
     "ename": "NameError",
     "evalue": "name 'pd' is not defined",
     "output_type": "error",
     "traceback": [
      "\u001b[1;31m---------------------------------------------------------------------------\u001b[0m",
      "\u001b[1;31mNameError\u001b[0m                                 Traceback (most recent call last)",
      "\u001b[1;32m<ipython-input-1-5267ac693843>\u001b[0m in \u001b[0;36m<module>\u001b[1;34m\u001b[0m\n\u001b[1;32m----> 1\u001b[1;33m \u001b[0mdf_R\u001b[0m \u001b[1;33m=\u001b[0m\u001b[0mpd\u001b[0m\u001b[1;33m.\u001b[0m\u001b[0mread_csv\u001b[0m\u001b[1;33m(\u001b[0m\u001b[1;34m\"r_simulation.csv\"\u001b[0m\u001b[1;33m)\u001b[0m\u001b[1;33m\u001b[0m\u001b[1;33m\u001b[0m\u001b[0m\n\u001b[0m",
      "\u001b[1;31mNameError\u001b[0m: name 'pd' is not defined"
     ]
    }
   ],
   "source": [
    "df_R =pd.read_csv(\"r_simulation.csv\")"
   ]
  },
  {
   "cell_type": "code",
   "execution_count": null,
   "metadata": {},
   "outputs": [],
   "source": []
  }
 ],
 "metadata": {
  "kernelspec": {
   "display_name": "Python 3",
   "language": "python",
   "name": "python3"
  },
  "language_info": {
   "codemirror_mode": {
    "name": "ipython",
    "version": 3
   },
   "file_extension": ".py",
   "mimetype": "text/x-python",
   "name": "python",
   "nbconvert_exporter": "python",
   "pygments_lexer": "ipython3",
   "version": "3.8.5"
  }
 },
 "nbformat": 4,
 "nbformat_minor": 4
}
