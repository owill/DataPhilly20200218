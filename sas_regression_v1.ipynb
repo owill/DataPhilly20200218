{
 "cells": [
  {
   "cell_type": "markdown",
   "metadata": {},
   "source": [
    "# SAS, oh my!\n",
    "\n",
    "Oliver Will\n",
    "\n",
    "2021-02-18\n",
    "\n",
    "I always check if the namespace is empty.\n",
    "\n",
    "*I don't remember how to do this. I usually use the explorer in the SAS for Window ide.*"
   ]
  },
  {
   "cell_type": "markdown",
   "metadata": {},
   "source": [
    "Not quite sure what's in this namespace but it doesn't look too bad.\n",
    "## Two programming concepts\n",
    "1. Variable assignment\n",
    "2. Functions\n",
    "\n",
    "Variable and function assignment in SAS is poorly defined. I can do it through macros or SAS/IML. "
   ]
  },
  {
   "cell_type": "markdown",
   "metadata": {},
   "source": [
    "There's no easy way to remove variables and functions from the namespace.\n",
    "\n",
    "## Simulate the first dataset\n",
    "\n",
    "It's easy to get into Markdown in Jupyter and it can handle $LaTex$.\n",
    "\n",
    "We create our first data set with 100 points. \n",
    "\n",
    "Simulate a regression of the form \\begin{equation}y=\\beta_0+\\beta_1 x+\\epsilon\\end{equation}\n",
    "\n",
    "where $\\epsilon \\sim \\text{Normal}(0, \\sigma=2)$.\n",
    "\n",
    "Make it easy and let $\\beta_0 = 1$ and $\\beta_1 = 2$."
   ]
  },
  {
   "cell_type": "code",
   "execution_count": null,
   "metadata": {},
   "outputs": [],
   "source": [
    "ods html5 style=statistical;\n",
    "ods graphics /width=500 height=500;"
   ]
  },
  {
   "cell_type": "code",
   "execution_count": null,
   "metadata": {},
   "outputs": [],
   "source": [
    "data tmp;\n",
    "    x = 1;\n",
    "    output;\n",
    "    x = 2;\n",
    "    output;\n",
    "run;"
   ]
  },
  {
   "cell_type": "code",
   "execution_count": null,
   "metadata": {},
   "outputs": [],
   "source": []
  }
 ],
 "metadata": {
  "kernelspec": {
   "display_name": "SAS",
   "language": "sas",
   "name": "sas"
  },
  "language_info": {
   "codemirror_mode": "sas",
   "file_extension": ".sas",
   "mimetype": "text/x-sas",
   "name": "sas"
  }
 },
 "nbformat": 4,
 "nbformat_minor": 4
}
