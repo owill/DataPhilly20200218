{
 "cells": [
  {
   "cell_type": "markdown",
   "metadata": {},
   "source": [
    "# R is Awsome!\n",
    "\n",
    "- Oliver Will\n",
    "- 2021-02-18\n",
    "- v2\n",
    "\n",
    "Anaconda installed R version 3.6.1. I don't know how to check the version from withing Jupyter Lab. \n",
    "\n",
    "I always check if the namespace is empty."
   ]
  },
  {
   "cell_type": "code",
   "execution_count": 4,
   "metadata": {},
   "outputs": [
    {
     "data": {
      "text/html": [],
      "text/latex": [],
      "text/markdown": [],
      "text/plain": [
       "character(0)"
      ]
     },
     "metadata": {},
     "output_type": "display_data"
    }
   ],
   "source": [
    "ls()"
   ]
  },
  {
   "cell_type": "markdown",
   "metadata": {},
   "source": [
    "## Three programming concepts\n",
    "\n",
    "1. Variable assignment"
   ]
  },
  {
   "cell_type": "code",
   "execution_count": 6,
   "metadata": {},
   "outputs": [
    {
     "data": {
      "text/html": [
       "2"
      ],
      "text/latex": [
       "2"
      ],
      "text/markdown": [
       "2"
      ],
      "text/plain": [
       "[1] 2"
      ]
     },
     "metadata": {},
     "output_type": "display_data"
    },
    {
     "data": {
      "text/html": [
       "'Hello World'"
      ],
      "text/latex": [
       "'Hello World'"
      ],
      "text/markdown": [
       "'Hello World'"
      ],
      "text/plain": [
       "[1] \"Hello World\""
      ]
     },
     "metadata": {},
     "output_type": "display_data"
    }
   ],
   "source": [
    "# Example of variables assignment\n",
    "x <- 2\n",
    "x\n",
    "\n",
    "# A variables in R can take anything\n",
    "x <- \"Hello World\"\n",
    "x"
   ]
  },
  {
   "cell_type": "markdown",
   "metadata": {},
   "source": [
    "2. Functions"
   ]
  },
  {
   "cell_type": "code",
   "execution_count": 8,
   "metadata": {},
   "outputs": [
    {
     "data": {
      "text/html": [
       "5"
      ],
      "text/latex": [
       "5"
      ],
      "text/markdown": [
       "5"
      ],
      "text/plain": [
       "[1] 5"
      ]
     },
     "metadata": {},
     "output_type": "display_data"
    }
   ],
   "source": [
    "# Example of a function assignment\n",
    "f <- function(x, y)\n",
    "    {x+y}\n",
    "f(2,3)"
   ]
  },
  {
   "cell_type": "markdown",
   "metadata": {},
   "source": [
    "R has a method to delete variables or functions"
   ]
  },
  {
   "cell_type": "code",
   "execution_count": 9,
   "metadata": {},
   "outputs": [
    {
     "data": {
      "text/html": [],
      "text/latex": [],
      "text/markdown": [],
      "text/plain": [
       "character(0)"
      ]
     },
     "metadata": {},
     "output_type": "display_data"
    }
   ],
   "source": [
    "rm(x)\n",
    "rm(f)\n",
    "ls()"
   ]
  },
  {
   "cell_type": "markdown",
   "metadata": {},
   "source": [
    "3. Adding a package"
   ]
  },
  {
   "cell_type": "code",
   "execution_count": 10,
   "metadata": {},
   "outputs": [
    {
     "name": "stderr",
     "output_type": "stream",
     "text": [
      "Registered S3 methods overwritten by 'ggplot2':\n",
      "  method         from \n",
      "  [.quosures     rlang\n",
      "  c.quosures     rlang\n",
      "  print.quosures rlang\n"
     ]
    }
   ],
   "source": [
    "# The package has already been installed\n",
    "# install.packages(\"ggplot2\")\n",
    "library(ggplot2)"
   ]
  },
  {
   "cell_type": "markdown",
   "metadata": {},
   "source": [
    "# Simulate a dataset\n",
    "\n",
    "It's easy to get into Markdown in Jupyter and it can handle $LaTex$. RStudio has good integration with R markdown, but I rarely use that. \n",
    "\n",
    "We'll create a data set of 100 data points. \n",
    "\n",
    "Simulate a regression of the form \\begin{equation}y=\\beta_0+\\beta_1 x+\\epsilon\\end{equation}\n",
    "\n",
    "where $\\epsilon \\sim \\text{Normal}(0, \\sigma=4)$.\n",
    "\n",
    "Make it easy and let $\\beta_0 = 5$ and $\\beta_1 = 2$.\n",
    "\n",
    "$x$ will be simulated from a $\\text{Normal}(\\mu = 0, \\sigma = 4)$ and $\\epsilon \\sim \\text{Normal}(\\mu = 0, \\sigma = 4)$."
   ]
  },
  {
   "cell_type": "code",
   "execution_count": 22,
   "metadata": {},
   "outputs": [
    {
     "data": {
      "text/html": [
       "0.386099884434745"
      ],
      "text/latex": [
       "0.386099884434745"
      ],
      "text/markdown": [
       "0.386099884434745"
      ],
      "text/plain": [
       "[1] 0.3860999"
      ]
     },
     "metadata": {},
     "output_type": "display_data"
    },
    {
     "data": {
      "text/html": [
       "3.6554923892539"
      ],
      "text/latex": [
       "3.6554923892539"
      ],
      "text/markdown": [
       "3.6554923892539"
      ],
      "text/plain": [
       "[1] 3.655492"
      ]
     },
     "metadata": {},
     "output_type": "display_data"
    },
    {
     "data": {
      "text/html": [
       "5.46777008983399"
      ],
      "text/latex": [
       "5.46777008983399"
      ],
      "text/markdown": [
       "5.46777008983399"
      ],
      "text/plain": [
       "[1] 5.46777"
      ]
     },
     "metadata": {},
     "output_type": "display_data"
    },
    {
     "name": "stdout",
     "output_type": "stream",
     "text": [
      "[1] \"Std of y\"\n"
     ]
    },
    {
     "data": {
      "text/html": [
       "8.94427190999916"
      ],
      "text/latex": [
       "8.94427190999916"
      ],
      "text/markdown": [
       "8.94427190999916"
      ],
      "text/plain": [
       "[1] 8.944272"
      ]
     },
     "metadata": {},
     "output_type": "display_data"
    },
    {
     "data": {
      "text/html": [
       "7.87124568701637"
      ],
      "text/latex": [
       "7.87124568701637"
      ],
      "text/markdown": [
       "7.87124568701637"
      ],
      "text/plain": [
       "[1] 7.871246"
      ]
     },
     "metadata": {},
     "output_type": "display_data"
    },
    {
     "data": {
      "text/html": [
       "<table>\n",
       "<thead><tr><th scope=col>x</th><th scope=col>y</th></tr></thead>\n",
       "<tbody>\n",
       "\t<tr><td> 0.8670195</td><td> 9.4732466</td></tr>\n",
       "\t<tr><td>-2.1699703</td><td> 0.1996054</td></tr>\n",
       "\t<tr><td> 3.5645786</td><td>10.7032564</td></tr>\n",
       "\t<tr><td> 2.3839223</td><td> 9.3447582</td></tr>\n",
       "\t<tr><td> 6.5424720</td><td>18.2644752</td></tr>\n",
       "\t<tr><td> 2.7571018</td><td> 3.6095106</td></tr>\n",
       "</tbody>\n",
       "</table>\n"
      ],
      "text/latex": [
       "\\begin{tabular}{r|ll}\n",
       " x & y\\\\\n",
       "\\hline\n",
       "\t  0.8670195 &  9.4732466\\\\\n",
       "\t -2.1699703 &  0.1996054\\\\\n",
       "\t  3.5645786 & 10.7032564\\\\\n",
       "\t  2.3839223 &  9.3447582\\\\\n",
       "\t  6.5424720 & 18.2644752\\\\\n",
       "\t  2.7571018 &  3.6095106\\\\\n",
       "\\end{tabular}\n"
      ],
      "text/markdown": [
       "\n",
       "| x | y |\n",
       "|---|---|\n",
       "|  0.8670195 |  9.4732466 |\n",
       "| -2.1699703 |  0.1996054 |\n",
       "|  3.5645786 | 10.7032564 |\n",
       "|  2.3839223 |  9.3447582 |\n",
       "|  6.5424720 | 18.2644752 |\n",
       "|  2.7571018 |  3.6095106 |\n",
       "\n"
      ],
      "text/plain": [
       "  x          y         \n",
       "1  0.8670195  9.4732466\n",
       "2 -2.1699703  0.1996054\n",
       "3  3.5645786 10.7032564\n",
       "4  2.3839223  9.3447582\n",
       "5  6.5424720 18.2644752\n",
       "6  2.7571018  3.6095106"
      ]
     },
     "metadata": {},
     "output_type": "display_data"
    },
    {
     "data": {
      "text/html": [
       "<ol class=list-inline>\n",
       "\t<li>0.867019451454303</li>\n",
       "\t<li>-2.1699702890537</li>\n",
       "\t<li>3.56457858028931</li>\n",
       "\t<li>2.3839223087499</li>\n",
       "\t<li>6.54247200445189</li>\n",
       "\t<li>2.75710176767889</li>\n",
       "</ol>\n"
      ],
      "text/latex": [
       "\\begin{enumerate*}\n",
       "\\item 0.867019451454303\n",
       "\\item -2.1699702890537\n",
       "\\item 3.56457858028931\n",
       "\\item 2.3839223087499\n",
       "\\item 6.54247200445189\n",
       "\\item 2.75710176767889\n",
       "\\end{enumerate*}\n"
      ],
      "text/markdown": [
       "1. 0.867019451454303\n",
       "2. -2.1699702890537\n",
       "3. 3.56457858028931\n",
       "4. 2.3839223087499\n",
       "5. 6.54247200445189\n",
       "6. 2.75710176767889\n",
       "\n",
       "\n"
      ],
      "text/plain": [
       "[1]  0.8670195 -2.1699703  3.5645786  2.3839223  6.5424720  2.7571018"
      ]
     },
     "metadata": {},
     "output_type": "display_data"
    }
   ],
   "source": [
    "set.seed(4)\n",
    "# Set of functions rnorm, dnorm, pnorm, and qnorm.\n",
    "x <- rnorm(100, 0, 4)\n",
    "y <- 5+2*x+rnorm(100, 0, 4)\n",
    "mean(x)\n",
    "sd(x)\n",
    "mean(y)\n",
    "# Sum of normals is normal. Std is sum of sqrt of the sum of squares.\n",
    "print(\"Std of y\")\n",
    "sqrt(2^2*4^2+4^2)\n",
    "sd(y)\n",
    "\n",
    "df <- data.frame(x=x, y=y)\n",
    "\n",
    "# R doesn't tell you what the variable memory is\n",
    "head(df)\n",
    "head(df[, \"x\"])"
   ]
  },
  {
   "cell_type": "markdown",
   "metadata": {},
   "source": [
    "# Plot the data"
   ]
  },
  {
   "cell_type": "code",
   "execution_count": 23,
   "metadata": {},
   "outputs": [
    {
     "data": {
      "image/png": "[encoded data removed]",
      "text/plain": [
       "plot without title"
      ]
     },
     "metadata": {},
     "output_type": "display_data"
    }
   ],
   "source": [
    "plot(x, y)"
   ]
  },
  {
   "cell_type": "markdown",
   "metadata": {},
   "source": [
    "Maybe we need to enter the Tidyverse?"
   ]
  },
  {
   "cell_type": "code",
   "execution_count": 25,
   "metadata": {},
   "outputs": [
    {
     "data": {
      "image/png": "[encoded data removed]",
      "text/plain": [
       "plot without title"
      ]
     },
     "metadata": {},
     "output_type": "display_data"
    }
   ],
   "source": [
    "# library(\"ggplot2\")\n",
    "qplot(x, y, data=df)"
   ]
  },
  {
   "cell_type": "markdown",
   "metadata": {},
   "source": [
    "# Linear regression\n",
    "\n",
    "We'll fit a linear regression with OLS. We haven't discussed residuals yet. \n",
    "\n",
    "The $i^\\text{th}$ residual is $e_i=y_i-\\hat{y}_i$ where $\\hat{y}$ is the predicted value of $y$."
   ]
  },
  {
   "cell_type": "code",
   "execution_count": 26,
   "metadata": {},
   "outputs": [
    {
     "data": {
      "text/plain": [
       "\n",
       "Call:\n",
       "lm(formula = y ~ x, data = df)\n",
       "\n",
       "Residuals:\n",
       "    Min      1Q  Median      3Q     Max \n",
       "-8.6775 -2.8440 -0.2084  2.9105  8.5184 \n",
       "\n",
       "Coefficients:\n",
       "            Estimate Std. Error t value Pr(>|t|)    \n",
       "(Intercept)   4.7529     0.4061   11.70   <2e-16 ***\n",
       "x             1.8516     0.1110   16.68   <2e-16 ***\n",
       "---\n",
       "Signif. codes:  0 '***' 0.001 '**' 0.01 '*' 0.05 '.' 0.1 ' ' 1\n",
       "\n",
       "Residual standard error: 4.038 on 98 degrees of freedom\n",
       "Multiple R-squared:  0.7394,\tAdjusted R-squared:  0.7368 \n",
       "F-statistic: 278.1 on 1 and 98 DF,  p-value: < 2.2e-16\n"
      ]
     },
     "metadata": {},
     "output_type": "display_data"
    }
   ],
   "source": [
    "fm <- lm(y~x, data=df)\n",
    "summary(fm)"
   ]
  },
  {
   "cell_type": "code",
   "execution_count": 34,
   "metadata": {},
   "outputs": [
    {
     "data": {
      "text/html": [
       "<ol class=list-inline>\n",
       "\t<li>'assign'</li>\n",
       "\t<li>'call'</li>\n",
       "\t<li>'coefficients'</li>\n",
       "\t<li>'df.residual'</li>\n",
       "\t<li>'effects'</li>\n",
       "\t<li>'fitted.values'</li>\n",
       "\t<li>'model'</li>\n",
       "\t<li>'qr'</li>\n",
       "\t<li>'rank'</li>\n",
       "\t<li>'residuals'</li>\n",
       "\t<li>'terms'</li>\n",
       "\t<li>'xlevels'</li>\n",
       "</ol>\n"
      ],
      "text/latex": [
       "\\begin{enumerate*}\n",
       "\\item 'assign'\n",
       "\\item 'call'\n",
       "\\item 'coefficients'\n",
       "\\item 'df.residual'\n",
       "\\item 'effects'\n",
       "\\item 'fitted.values'\n",
       "\\item 'model'\n",
       "\\item 'qr'\n",
       "\\item 'rank'\n",
       "\\item 'residuals'\n",
       "\\item 'terms'\n",
       "\\item 'xlevels'\n",
       "\\end{enumerate*}\n"
      ],
      "text/markdown": [
       "1. 'assign'\n",
       "2. 'call'\n",
       "3. 'coefficients'\n",
       "4. 'df.residual'\n",
       "5. 'effects'\n",
       "6. 'fitted.values'\n",
       "7. 'model'\n",
       "8. 'qr'\n",
       "9. 'rank'\n",
       "10. 'residuals'\n",
       "11. 'terms'\n",
       "12. 'xlevels'\n",
       "\n",
       "\n"
      ],
      "text/plain": [
       " [1] \"assign\"        \"call\"          \"coefficients\"  \"df.residual\"  \n",
       " [5] \"effects\"       \"fitted.values\" \"model\"         \"qr\"           \n",
       " [9] \"rank\"          \"residuals\"     \"terms\"         \"xlevels\"      "
      ]
     },
     "metadata": {},
     "output_type": "display_data"
    },
    {
     "data": {
      "text/html": [
       "<ol class=list-inline>\n",
       "\t<li>'adj.r.squared'</li>\n",
       "\t<li>'aliased'</li>\n",
       "\t<li>'call'</li>\n",
       "\t<li>'coefficients'</li>\n",
       "\t<li>'cov.unscaled'</li>\n",
       "\t<li>'df'</li>\n",
       "\t<li>'fstatistic'</li>\n",
       "\t<li>'r.squared'</li>\n",
       "\t<li>'residuals'</li>\n",
       "\t<li>'sigma'</li>\n",
       "\t<li>'terms'</li>\n",
       "</ol>\n"
      ],
      "text/latex": [
       "\\begin{enumerate*}\n",
       "\\item 'adj.r.squared'\n",
       "\\item 'aliased'\n",
       "\\item 'call'\n",
       "\\item 'coefficients'\n",
       "\\item 'cov.unscaled'\n",
       "\\item 'df'\n",
       "\\item 'fstatistic'\n",
       "\\item 'r.squared'\n",
       "\\item 'residuals'\n",
       "\\item 'sigma'\n",
       "\\item 'terms'\n",
       "\\end{enumerate*}\n"
      ],
      "text/markdown": [
       "1. 'adj.r.squared'\n",
       "2. 'aliased'\n",
       "3. 'call'\n",
       "4. 'coefficients'\n",
       "5. 'cov.unscaled'\n",
       "6. 'df'\n",
       "7. 'fstatistic'\n",
       "8. 'r.squared'\n",
       "9. 'residuals'\n",
       "10. 'sigma'\n",
       "11. 'terms'\n",
       "\n",
       "\n"
      ],
      "text/plain": [
       " [1] \"adj.r.squared\" \"aliased\"       \"call\"          \"coefficients\" \n",
       " [5] \"cov.unscaled\"  \"df\"            \"fstatistic\"    \"r.squared\"    \n",
       " [9] \"residuals\"     \"sigma\"         \"terms\"        "
      ]
     },
     "metadata": {},
     "output_type": "display_data"
    }
   ],
   "source": [
    "# What is in the lm object?\n",
    "ls(fm)\n",
    "ls(summary(fm))"
   ]
  },
  {
   "cell_type": "markdown",
   "metadata": {},
   "source": [
    "# Plot the line\n",
    "\n",
    "Through the scatter plot."
   ]
  },
  {
   "cell_type": "code",
   "execution_count": 27,
   "metadata": {},
   "outputs": [
    {
     "data": {
      "image/png": "[encoded data removed]",
      "text/plain": [
       "plot without title"
      ]
     },
     "metadata": {},
     "output_type": "display_data"
    }
   ],
   "source": [
    "plot(x, y)\n",
    "lines(x, predict(fm, df))"
   ]
  },
  {
   "cell_type": "markdown",
   "metadata": {},
   "source": [
    "# Regression exploration\n",
    "We want to explore the regression line. \n",
    "- Means are on the regression line\n",
    "- The slope is $r \\times \\sigma_y/\\sigma_x$\n",
    "- Solve for intercept"
   ]
  },
  {
   "cell_type": "code",
   "execution_count": 35,
   "metadata": {},
   "outputs": [
    {
     "name": "stdout",
     "output_type": "stream",
     "text": [
      "[1] \"Are the means on the same line?\"\n",
      "(Intercept) \n",
      "       TRUE \n"
     ]
    }
   ],
   "source": [
    "m_x <- mean(df[,\"x\"])\n",
    "m_y <- mean(df[,\"y\"])\n",
    "\n",
    "b0 <- fm$coef[1]\n",
    "b1 <- fm$coef[2]\n",
    "print(\"Are the means on the same line?\")\n",
    "print(m_y == b0+b1*m_x)"
   ]
  },
  {
   "cell_type": "code",
   "execution_count": 36,
   "metadata": {},
   "outputs": [
    {
     "name": "stdout",
     "output_type": "stream",
     "text": [
      "[1] 5.46777\n",
      "(Intercept) \n",
      "    5.46777 \n"
     ]
    }
   ],
   "source": [
    "print(m_y)\n",
    "print(b0+b1*m_x)"
   ]
  },
  {
   "cell_type": "markdown",
   "metadata": {},
   "source": [
    "I don't understand where all the digits of percision went?"
   ]
  },
  {
   "cell_type": "code",
   "execution_count": 37,
   "metadata": {},
   "outputs": [
    {
     "name": "stdout",
     "output_type": "stream",
     "text": [
      "[1] \"Is the formula for slope correct?\"\n",
      "       x \n",
      "1.851588 \n",
      "[1] 1.851588\n"
     ]
    }
   ],
   "source": [
    "print(\"Is the formula for slope correct?\")\n",
    "print(b1)\n",
    "print(cor(df[,\"x\"], df[,\"y\"])*sd(df[,\"y\"])/sd(df[,\"x\"]))"
   ]
  },
  {
   "cell_type": "code",
   "execution_count": 41,
   "metadata": {},
   "outputs": [
    {
     "name": "stdout",
     "output_type": "stream",
     "text": [
      "[1] \"What about the intercept?\"\n",
      "(Intercept) \n",
      "   4.752872 \n",
      "       x \n",
      "4.752872 \n"
     ]
    }
   ],
   "source": [
    "# Weird. Not getting control of the print statement like I thought.\n",
    "print(\"What about the intercept?\")\n",
    "print(b0)\n",
    "print(m_y-b1*m_x)"
   ]
  },
  {
   "cell_type": "markdown",
   "metadata": {},
   "source": [
    "# Check the model assumptions\n",
    "1. Linear and additive\n",
    "2. Errors are independent\n",
    "3. Errors are normal\n",
    "4. Errors are equal variance"
   ]
  },
  {
   "cell_type": "code",
   "execution_count": 35,
   "metadata": {},
   "outputs": [
    {
     "data": {
      "image/png": "[encoded data removed]",
      "text/plain": [
       "Plot with title \"\""
      ]
     },
     "metadata": {},
     "output_type": "display_data"
    },
    {
     "data": {
      "image/png": "[encoded data removed]",
      "text/plain": [
       "Plot with title \"\""
      ]
     },
     "metadata": {},
     "output_type": "display_data"
    },
    {
     "data": {
      "image/png": "[encoded data removed]",
      "text/plain": [
       "Plot with title \"\""
      ]
     },
     "metadata": {},
     "output_type": "display_data"
    },
    {
     "data": {
      "image/png": "[encoded data removed]",
      "text/plain": [
       "Plot with title \"\""
      ]
     },
     "metadata": {},
     "output_type": "display_data"
    }
   ],
   "source": [
    "plot(fm)"
   ]
  },
  {
   "cell_type": "markdown",
   "metadata": {},
   "source": [
    "R has made these plots since the first time I ran it. \n",
    "- \"Residuals vs Fitted\" Gives an idea that the errors are independent and equal. Of course, it looks good.\n",
    "- \"Normal Q-Q\" Best graphical way to evaluate normality. Plotting the quantiles of the normal (if you had 100 points, what's the 100th quantile of the normal) against the residuals. Basically, if residuals come from the a normal distribution, they'll fall on a line. \n",
    "- \"Scale-Location\" Like the residuals vs fitted but using the predicted y values. Again, it's for the independence of errors and equal error variance.\n",
    "- \"Residuals vs Leverage\" I actually use this graph, but I typically look at the values that are numbered. If it's over 5% of the data, I worry. Levarge is defined in terms of the vector solution for linear regression. In a general sense, I interpret it as how far away a predictor is from the others. Standardized residuals we know. Cook's distance is the average standardized change in the estimated $y$ when an observation is removed. \n",
    "\n",
    "I would try to find obserations 23, 34, and 84 on the scatter versus line graph to see what's going on. "
   ]
  },
  {
   "cell_type": "markdown",
   "metadata": {},
   "source": [
    "# Did the 3 programming languages produce simulate data from the same distribution?\n",
    "\n",
    "I find the scatter plots weird. Are these really the same distributions?"
   ]
  },
  {
   "cell_type": "code",
   "execution_count": 37,
   "metadata": {},
   "outputs": [],
   "source": [
    "write.csv(df, \"r_simulation.csv\", row.names=FALSE)"
   ]
  },
  {
   "cell_type": "code",
   "execution_count": 39,
   "metadata": {},
   "outputs": [
    {
     "data": {
      "text/html": [
       "<table>\n",
       "<thead><tr><th scope=col>x</th><th scope=col>y</th></tr></thead>\n",
       "<tbody>\n",
       "\t<tr><td>-7.6448531</td><td>-19.093772</td></tr>\n",
       "\t<tr><td>-0.4003392</td><td>  6.218542</td></tr>\n",
       "\t<tr><td>-1.5154872</td><td>  4.099552</td></tr>\n",
       "\t<tr><td> 8.1503993</td><td> 22.425534</td></tr>\n",
       "\t<tr><td>-5.5234641</td><td> -7.382095</td></tr>\n",
       "\t<tr><td>-3.3438098</td><td>  9.532128</td></tr>\n",
       "</tbody>\n",
       "</table>\n"
      ],
      "text/latex": [
       "\\begin{tabular}{r|ll}\n",
       " x & y\\\\\n",
       "\\hline\n",
       "\t -7.6448531 & -19.093772\\\\\n",
       "\t -0.4003392 &   6.218542\\\\\n",
       "\t -1.5154872 &   4.099552\\\\\n",
       "\t  8.1503993 &  22.425534\\\\\n",
       "\t -5.5234641 &  -7.382095\\\\\n",
       "\t -3.3438098 &   9.532128\\\\\n",
       "\\end{tabular}\n"
      ],
      "text/markdown": [
       "\n",
       "| x | y |\n",
       "|---|---|\n",
       "| -7.6448531 | -19.093772 |\n",
       "| -0.4003392 |   6.218542 |\n",
       "| -1.5154872 |   4.099552 |\n",
       "|  8.1503993 |  22.425534 |\n",
       "| -5.5234641 |  -7.382095 |\n",
       "| -3.3438098 |   9.532128 |\n",
       "\n"
      ],
      "text/plain": [
       "  x          y         \n",
       "1 -7.6448531 -19.093772\n",
       "2 -0.4003392   6.218542\n",
       "3 -1.5154872   4.099552\n",
       "4  8.1503993  22.425534\n",
       "5 -5.5234641  -7.382095\n",
       "6 -3.3438098   9.532128"
      ]
     },
     "metadata": {},
     "output_type": "display_data"
    }
   ],
   "source": [
    "df_julia <- read.csv(\"julia_simulation.csv\")\n",
    "head(df_julia)"
   ]
  },
  {
   "cell_type": "code",
   "execution_count": 55,
   "metadata": {},
   "outputs": [
    {
     "data": {
      "image/png": "[encoded data removed]",
      "text/plain": [
       "plot without title"
      ]
     },
     "metadata": {},
     "output_type": "display_data"
    },
    {
     "data": {
      "image/png": "[encoded data removed]",
      "text/plain": [
       "plot without title"
      ]
     },
     "metadata": {},
     "output_type": "display_data"
    }
   ],
   "source": [
    "qqplot(df[,\"x\"], df_julia[,\"x\"])\n",
    "abline(0, 1)\n",
    "qqplot(df[,\"y\"], df_julia[,\"y\"])\n",
    "abline(0, 1)"
   ]
  },
  {
   "cell_type": "code",
   "execution_count": 46,
   "metadata": {},
   "outputs": [],
   "source": [
    "df_python <- read.csv(\"python_simulation.csv\")"
   ]
  },
  {
   "cell_type": "code",
   "execution_count": 54,
   "metadata": {},
   "outputs": [
    {
     "data": {
      "image/png": "[encoded data removed]",
      "text/plain": [
       "plot without title"
      ]
     },
     "metadata": {},
     "output_type": "display_data"
    }
   ],
   "source": [
    "qqplot(df[,\"x\"], df_python[, \"x\"])\n",
    "abline(0, 1)"
   ]
  },
  {
   "cell_type": "code",
   "execution_count": 53,
   "metadata": {},
   "outputs": [
    {
     "data": {
      "text/html": [
       "-0.040827024202603"
      ],
      "text/latex": [
       "-0.040827024202603"
      ],
      "text/markdown": [
       "-0.040827024202603"
      ],
      "text/plain": [
       "[1] -0.04082702"
      ]
     },
     "metadata": {},
     "output_type": "display_data"
    },
    {
     "data": {
      "text/html": [
       "0.141094311895533"
      ],
      "text/latex": [
       "0.141094311895533"
      ],
      "text/markdown": [
       "0.141094311895533"
      ],
      "text/plain": [
       "[1] 0.1410943"
      ]
     },
     "metadata": {},
     "output_type": "display_data"
    },
    {
     "data": {
      "text/html": [
       "0.172011014272796"
      ],
      "text/latex": [
       "0.172011014272796"
      ],
      "text/markdown": [
       "0.172011014272796"
      ],
      "text/plain": [
       "[1] 0.172011"
      ]
     },
     "metadata": {},
     "output_type": "display_data"
    }
   ],
   "source": [
    "mean(df[,\"x\"])\n",
    "mean(df_python[,\"x\"])\n",
    "mean(df_julia[,\"x\"])"
   ]
  },
  {
   "cell_type": "code",
   "execution_count": 51,
   "metadata": {},
   "outputs": [
    {
     "data": {
      "text/html": [
       "5.46777008983399"
      ],
      "text/latex": [
       "5.46777008983399"
      ],
      "text/markdown": [
       "5.46777008983399"
      ],
      "text/plain": [
       "[1] 5.46777"
      ]
     },
     "metadata": {},
     "output_type": "display_data"
    },
    {
     "data": {
      "text/html": [
       "5.36942102634261"
      ],
      "text/latex": [
       "5.36942102634261"
      ],
      "text/markdown": [
       "5.36942102634261"
      ],
      "text/plain": [
       "[1] 5.369421"
      ]
     },
     "metadata": {},
     "output_type": "display_data"
    },
    {
     "data": {
      "text/html": [
       "5.33543967748777"
      ],
      "text/latex": [
       "5.33543967748777"
      ],
      "text/markdown": [
       "5.33543967748777"
      ],
      "text/plain": [
       "[1] 5.33544"
      ]
     },
     "metadata": {},
     "output_type": "display_data"
    }
   ],
   "source": [
    "mean(df[,\"y\"])\n",
    "mean(df_python[,\"y\"])\n",
    "mean(df_julia[,\"y\"])"
   ]
  },
  {
   "cell_type": "markdown",
   "metadata": {},
   "source": [
    "# Assumption violations?\n",
    "We have a new data set. Found here. (If I understood GitHub better, I'd download directly from there. \n",
    "\n",
    "https://github.com/mattharrison/xkcd-Curve-Fitting-Data-2048"
   ]
  },
  {
   "cell_type": "code",
   "execution_count": 42,
   "metadata": {},
   "outputs": [],
   "source": [
    "df_xkcd <- read.csv(\"xkcd_2048_mattharrison.csv\")"
   ]
  },
  {
   "cell_type": "code",
   "execution_count": null,
   "metadata": {},
   "outputs": [],
   "source": [
    "plot(df_xkcd[,\"x\"], df_xkcd[,\"y\"]"
   ]
  }
 ],
 "metadata": {
  "kernelspec": {
   "display_name": "R",
   "language": "R",
   "name": "ir"
  },
  "language_info": {
   "codemirror_mode": "r",
   "file_extension": ".r",
   "mimetype": "text/x-r-source",
   "name": "R",
   "pygments_lexer": "r",
   "version": "3.6.1"
  }
 },
 "nbformat": 4,
 "nbformat_minor": 4
}
